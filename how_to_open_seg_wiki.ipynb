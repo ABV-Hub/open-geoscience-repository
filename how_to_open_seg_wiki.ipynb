{
  "nbformat": 4,
  "nbformat_minor": 0,
  "metadata": {
    "colab": {
      "name": "how-to-open-seg-wiki.ipynb",
      "provenance": [],
      "collapsed_sections": [],
      "authorship_tag": "ABX9TyNstz+4vaQB43cuD7AtBJ9c",
      "include_colab_link": true
    },
    "kernelspec": {
      "name": "python3",
      "display_name": "Python 3"
    }
  },
  "cells": [
    {
      "cell_type": "markdown",
      "metadata": {
        "id": "view-in-github",
        "colab_type": "text"
      },
      "source": [
        "<a href=\"https://colab.research.google.com/github/yohanesnuwara/open-geoscience-repository/blob/master/how_to_open_seg_wiki.ipynb\" target=\"_parent\"><img src=\"https://colab.research.google.com/assets/colab-badge.svg\" alt=\"Open In Colab\"/></a>"
      ]
    },
    {
      "cell_type": "markdown",
      "metadata": {
        "id": "1NAsJDSUdHNy",
        "colab_type": "text"
      },
      "source": [
        "# SEG Wiki"
      ]
    },
    {
      "cell_type": "markdown",
      "metadata": {
        "id": "NnEsWserwB_r",
        "colab_type": "text"
      },
      "source": [
        "## 2D Vibroseis Line 001: [Link](https://wiki.seg.org/wiki/2D_Vibroseis_Line_001)"
      ]
    },
    {
      "cell_type": "code",
      "metadata": {
        "id": "WUtn9orNvZPC",
        "colab_type": "code",
        "outputId": "66cb7def-6701-4232-ca4c-9e054c87c0d0",
        "colab": {
          "base_uri": "https://localhost:8080/",
          "height": 210
        }
      },
      "source": [
        "!wget http://www.geofizyka.pl/2D_Land_vibro_data_2ms.tgz -P /content/'2D_Land_vibro_data_2ms'"
      ],
      "execution_count": 0,
      "outputs": [
        {
          "output_type": "stream",
          "text": [
            "--2020-05-05 17:08:25--  http://www.geofizyka.pl/2D_Land_vibro_data_2ms.tgz\n",
            "Resolving www.geofizyka.pl (www.geofizyka.pl)... 158.75.199.226\n",
            "Connecting to www.geofizyka.pl (www.geofizyka.pl)|158.75.199.226|:80... connected.\n",
            "HTTP request sent, awaiting response... 200 OK\n",
            "Length: 388949536 (371M) [application/x-gzip]\n",
            "Saving to: ‘/content/2D_Land_vibro_data_2ms/2D_Land_vibro_data_2ms.tgz’\n",
            "\n",
            "2D_Land_vibro_data_ 100%[===================>] 370.93M  22.6MB/s    in 17s     \n",
            "\n",
            "2020-05-05 17:08:43 (21.2 MB/s) - ‘/content/2D_Land_vibro_data_2ms/2D_Land_vibro_data_2ms.tgz’ saved [388949536/388949536]\n",
            "\n"
          ],
          "name": "stdout"
        }
      ]
    },
    {
      "cell_type": "code",
      "metadata": {
        "id": "ZJccmwa53z9z",
        "colab_type": "code",
        "colab": {}
      },
      "source": [
        "import tarfile\n",
        "with tarfile.open('/content/2D_Land_vibro_data_2ms.tgz', 'r:gz') as tar:\n",
        "    tar.extractall(path=\"/content/2D_Land_vibro_data_2ms\")"
      ],
      "execution_count": 0,
      "outputs": []
    },
    {
      "cell_type": "code",
      "metadata": {
        "id": "UYrUxr0H1vaj",
        "colab_type": "code",
        "colab": {}
      },
      "source": [
        "!tar -xvf  'test.tar' -C 'content/cell_images'"
      ],
      "execution_count": 0,
      "outputs": []
    },
    {
      "cell_type": "markdown",
      "metadata": {
        "id": "DzvjgR0B2hRs",
        "colab_type": "text"
      },
      "source": [
        "## Mobil Avo Viking Graben Line 12: [Link](https://wiki.seg.org/wiki/Mobil_AVO_viking_graben_line_12)"
      ]
    },
    {
      "cell_type": "markdown",
      "metadata": {
        "id": "a243srbE-QDL",
        "colab_type": "text"
      },
      "source": [
        "### Seismic"
      ]
    },
    {
      "cell_type": "code",
      "metadata": {
        "id": "ridhYEso16UJ",
        "colab_type": "code",
        "outputId": "14d92d4f-d43d-4cf8-df5f-c7595634ccb1",
        "colab": {
          "base_uri": "https://localhost:8080/",
          "height": 210
        }
      },
      "source": [
        "!wget http://s3.amazonaws.com/open.source.geoscience/open_data/Mobil_Avo_Viking_Graben_Line_12/seismic.segy -P /content/'Mobil Avo'"
      ],
      "execution_count": 0,
      "outputs": [
        {
          "output_type": "stream",
          "text": [
            "--2020-05-05 17:23:15--  http://s3.amazonaws.com/open.source.geoscience/open_data/Mobil_Avo_Viking_Graben_Line_12/seismic.segy\n",
            "Resolving s3.amazonaws.com (s3.amazonaws.com)... 52.217.32.142\n",
            "Connecting to s3.amazonaws.com (s3.amazonaws.com)|52.217.32.142|:80... connected.\n",
            "HTTP request sent, awaiting response... 200 OK\n",
            "Length: 749552400 (715M) [application/octet-stream]\n",
            "Saving to: ‘/content/Mobil Avo/seismic.segy’\n",
            "\n",
            "seismic.segy        100%[===================>] 714.83M  26.1MB/s    in 20s     \n",
            "\n",
            "2020-05-05 17:23:35 (36.2 MB/s) - ‘/content/Mobil Avo/seismic.segy’ saved [749552400/749552400]\n",
            "\n"
          ],
          "name": "stdout"
        }
      ]
    },
    {
      "cell_type": "markdown",
      "metadata": {
        "id": "yEN8MDN6-R-I",
        "colab_type": "text"
      },
      "source": [
        "### Well logs"
      ]
    },
    {
      "cell_type": "code",
      "metadata": {
        "id": "WGc8rKpa2shn",
        "colab_type": "code",
        "outputId": "c20b780a-9e92-42ee-878e-787dd92945f8",
        "colab": {
          "base_uri": "https://localhost:8080/",
          "height": 210
        }
      },
      "source": [
        "!wget http://s3.amazonaws.com/open.source.geoscience/open_data/Mobil_Avo_Viking_Graben_Line_12/mobil_wellogs.tar.gz -P /content/'Mobil Avo'"
      ],
      "execution_count": 0,
      "outputs": [
        {
          "output_type": "stream",
          "text": [
            "--2020-05-05 17:24:04--  http://s3.amazonaws.com/open.source.geoscience/open_data/Mobil_Avo_Viking_Graben_Line_12/mobil_wellogs.tar.gz\n",
            "Resolving s3.amazonaws.com (s3.amazonaws.com)... 52.216.130.221\n",
            "Connecting to s3.amazonaws.com (s3.amazonaws.com)|52.216.130.221|:80... connected.\n",
            "HTTP request sent, awaiting response... 200 OK\n",
            "Length: 1129175 (1.1M) [application/x-gzip]\n",
            "Saving to: ‘/content/Mobil Avo/mobil_wellogs.tar.gz’\n",
            "\n",
            "\rmobil_wellogs.tar.g   0%[                    ]       0  --.-KB/s               \rmobil_wellogs.tar.g  74%[=============>      ] 826.09K  3.91MB/s               \rmobil_wellogs.tar.g 100%[===================>]   1.08M  5.20MB/s    in 0.2s    \n",
            "\n",
            "2020-05-05 17:24:04 (5.20 MB/s) - ‘/content/Mobil Avo/mobil_wellogs.tar.gz’ saved [1129175/1129175]\n",
            "\n"
          ],
          "name": "stdout"
        }
      ]
    },
    {
      "cell_type": "code",
      "metadata": {
        "id": "paaIjAnT3fF7",
        "colab_type": "code",
        "colab": {}
      },
      "source": [
        "!cd /content/'Mobil Avo'\n",
        "with tarfile.open('/content/Mobil Avo/mobil_wellogs.tar.gz', 'r:gz') as tar:\n",
        "    tar.extractall(path=\"/content/Mobil Avo\")"
      ],
      "execution_count": 0,
      "outputs": []
    },
    {
      "cell_type": "markdown",
      "metadata": {
        "id": "SwNvr3hc8kjF",
        "colab_type": "text"
      },
      "source": [
        "## Stratton 3D [Link](https://wiki.seg.org/wiki/Stratton_3D_survey)"
      ]
    },
    {
      "cell_type": "markdown",
      "metadata": {
        "id": "qzI3co7x-V-j",
        "colab_type": "text"
      },
      "source": [
        "### Seismic (3D filtered migration)"
      ]
    },
    {
      "cell_type": "code",
      "metadata": {
        "id": "t2Ivvqtv-BTr",
        "colab_type": "code",
        "outputId": "d0a0a59a-c640-4fe8-8062-77f6c45cd4e1",
        "colab": {
          "base_uri": "https://localhost:8080/",
          "height": 210
        }
      },
      "source": [
        "!wget http://s3.amazonaws.com/open.source.geoscience/open_data/stratton/segy/processed/Stratton3D_32bit.sgy -P /content/'Stratton/seismic'"
      ],
      "execution_count": 0,
      "outputs": [
        {
          "output_type": "stream",
          "text": [
            "--2020-05-05 17:53:32--  http://s3.amazonaws.com/open.source.geoscience/open_data/stratton/segy/processed/Stratton3D_32bit.sgy\n",
            "Resolving s3.amazonaws.com (s3.amazonaws.com)... 52.217.13.142\n",
            "Connecting to s3.amazonaws.com (s3.amazonaws.com)|52.217.13.142|:80... connected.\n",
            "HTTP request sent, awaiting response... 200 OK\n",
            "Length: 443764680 (423M) [application/octet-stream]\n",
            "Saving to: ‘/content/Stratton/Stratton3D_32bit.sgy’\n",
            "\n",
            "Stratton3D_32bit.sg 100%[===================>] 423.21M  65.8MB/s    in 6.4s    \n",
            "\n",
            "2020-05-05 17:53:38 (66.3 MB/s) - ‘/content/Stratton/Stratton3D_32bit.sgy’ saved [443764680/443764680]\n",
            "\n"
          ],
          "name": "stdout"
        }
      ]
    },
    {
      "cell_type": "markdown",
      "metadata": {
        "id": "dxQ-UuXd-gd_",
        "colab_type": "text"
      },
      "source": [
        "### Well logs"
      ]
    },
    {
      "cell_type": "code",
      "metadata": {
        "id": "jTAtMdBT8n-v",
        "colab_type": "code",
        "outputId": "ca3dec8a-296c-4fbd-a7aa-9c53a54c7c6c",
        "colab": {
          "base_uri": "https://localhost:8080/",
          "height": 210
        }
      },
      "source": [
        "!wget http://s3.amazonaws.com/open.source.geoscience/open_data/stratton/Stratton_wells.zip -P /content/'Stratton'"
      ],
      "execution_count": 0,
      "outputs": [
        {
          "output_type": "stream",
          "text": [
            "--2020-05-05 17:50:10--  http://s3.amazonaws.com/open.source.geoscience/open_data/stratton/Stratton_wells.zip\n",
            "Resolving s3.amazonaws.com (s3.amazonaws.com)... 52.216.109.165\n",
            "Connecting to s3.amazonaws.com (s3.amazonaws.com)|52.216.109.165|:80... connected.\n",
            "HTTP request sent, awaiting response... 200 OK\n",
            "Length: 1076309 (1.0M) [application/zip]\n",
            "Saving to: ‘/content/Stratton/Stratton_wells.zip’\n",
            "\n",
            "\rStratton_wells.zip    0%[                    ]       0  --.-KB/s               \rStratton_wells.zip  100%[===================>]   1.03M  5.95MB/s    in 0.2s    \n",
            "\n",
            "2020-05-05 17:50:11 (5.95 MB/s) - ‘/content/Stratton/Stratton_wells.zip’ saved [1076309/1076309]\n",
            "\n"
          ],
          "name": "stdout"
        }
      ]
    },
    {
      "cell_type": "code",
      "metadata": {
        "id": "6jy6-_Lt9e1O",
        "colab_type": "code",
        "colab": {}
      },
      "source": [
        "import zipfile\n",
        "\n",
        "zipref = zipfile.ZipFile(\"/content/Stratton/Stratton_wells.zip\", 'r') \n",
        "zipref.extractall(\"/content/Stratton/wells\")"
      ],
      "execution_count": 0,
      "outputs": []
    },
    {
      "cell_type": "markdown",
      "metadata": {
        "id": "0RqcAdCH--En",
        "colab_type": "text"
      },
      "source": [
        "## Project Blake Ridge Hydrates 3D: [Link](https://wiki.seg.org/wiki/Blake_ridge_3D)\n",
        "\n",
        "CBVS file instead of SGY?\n",
        "\n",
        "Code to open Google Drive data from its ID (URL):<br>\n",
        "`wget --load-cookies /tmp/cookies.txt \"https://docs.google.com/uc?export=download&confirm=$(wget --quiet --save-cookies /tmp/cookies.txt --keep-session-cookies --no-check-certificate 'https://docs.google.com/uc?export=download&id=FILEID' -O- | sed -rn 's/.*confirm=([0-9A-Za-z_]+).*/\\1\\n/p')&id=FILEID\" -O FILENAME && rm -rf /tmp/cookies.txt`"
      ]
    },
    {
      "cell_type": "code",
      "metadata": {
        "id": "jOdTDhf1Bi-G",
        "colab_type": "code",
        "outputId": "89ca4723-dba5-43d8-94d0-24aa03366cf6",
        "colab": {
          "base_uri": "https://localhost:8080/",
          "height": 459
        }
      },
      "source": [
        "!wget --load-cookies /tmp/cookies.txt \"https://docs.google.com/uc?export=download&confirm=$(wget --quiet --save-cookies /tmp/cookies.txt --keep-session-cookies --no-check-certificate 'https://docs.google.com/uc?export=download&id=0B2QlmHOqpoj1bXR4THNITDQ4UVE' -O- | sed -rn 's/.*confirm=([0-9A-Za-z_]+).*/\\1\\n/p')&id=0B2QlmHOqpoj1bXR4THNITDQ4UVE\" -O Blake_Ridge_Hydrates_3D.zip && rm -rf /tmp/cookies.txt"
      ],
      "execution_count": 0,
      "outputs": [
        {
          "output_type": "stream",
          "text": [
            "--2020-05-05 18:24:58--  https://docs.google.com/uc?export=download&confirm=VyAx&id=0B2QlmHOqpoj1bXR4THNITDQ4UVE\n",
            "Resolving docs.google.com (docs.google.com)... 74.125.126.113, 74.125.126.138, 74.125.126.101, ...\n",
            "Connecting to docs.google.com (docs.google.com)|74.125.126.113|:443... connected.\n",
            "HTTP request sent, awaiting response... 302 Moved Temporarily\n",
            "Location: https://doc-14-38-docs.googleusercontent.com/docs/securesc/3jau92cv31jsi030ao3icj6c3qh7sle0/0f29nclo94mgv5moio1sq4iv2jjmf5dc/1588703025000/17464323907045469692/03645130838965277154Z/0B2QlmHOqpoj1bXR4THNITDQ4UVE?e=download [following]\n",
            "--2020-05-05 18:24:58--  https://doc-14-38-docs.googleusercontent.com/docs/securesc/3jau92cv31jsi030ao3icj6c3qh7sle0/0f29nclo94mgv5moio1sq4iv2jjmf5dc/1588703025000/17464323907045469692/03645130838965277154Z/0B2QlmHOqpoj1bXR4THNITDQ4UVE?e=download\n",
            "Resolving doc-14-38-docs.googleusercontent.com (doc-14-38-docs.googleusercontent.com)... 108.177.112.132, 2607:f8b0:4001:c12::84\n",
            "Connecting to doc-14-38-docs.googleusercontent.com (doc-14-38-docs.googleusercontent.com)|108.177.112.132|:443... connected.\n",
            "HTTP request sent, awaiting response... 302 Found\n",
            "Location: https://docs.google.com/nonceSigner?nonce=i145r2di3pfdc&continue=https://doc-14-38-docs.googleusercontent.com/docs/securesc/3jau92cv31jsi030ao3icj6c3qh7sle0/0f29nclo94mgv5moio1sq4iv2jjmf5dc/1588703025000/17464323907045469692/03645130838965277154Z/0B2QlmHOqpoj1bXR4THNITDQ4UVE?e%3Ddownload&hash=15ebb54nq19iv9mbu8ff3kflij5pn4s1 [following]\n",
            "--2020-05-05 18:24:58--  https://docs.google.com/nonceSigner?nonce=i145r2di3pfdc&continue=https://doc-14-38-docs.googleusercontent.com/docs/securesc/3jau92cv31jsi030ao3icj6c3qh7sle0/0f29nclo94mgv5moio1sq4iv2jjmf5dc/1588703025000/17464323907045469692/03645130838965277154Z/0B2QlmHOqpoj1bXR4THNITDQ4UVE?e%3Ddownload&hash=15ebb54nq19iv9mbu8ff3kflij5pn4s1\n",
            "Connecting to docs.google.com (docs.google.com)|74.125.126.113|:443... connected.\n",
            "HTTP request sent, awaiting response... 302 Found\n",
            "Location: https://doc-14-38-docs.googleusercontent.com/docs/securesc/3jau92cv31jsi030ao3icj6c3qh7sle0/0f29nclo94mgv5moio1sq4iv2jjmf5dc/1588703025000/17464323907045469692/03645130838965277154Z/0B2QlmHOqpoj1bXR4THNITDQ4UVE?e=download&nonce=i145r2di3pfdc&user=03645130838965277154Z&hash=hslsedidmjkit89pkq17jp03nm09kd97 [following]\n",
            "--2020-05-05 18:24:58--  https://doc-14-38-docs.googleusercontent.com/docs/securesc/3jau92cv31jsi030ao3icj6c3qh7sle0/0f29nclo94mgv5moio1sq4iv2jjmf5dc/1588703025000/17464323907045469692/03645130838965277154Z/0B2QlmHOqpoj1bXR4THNITDQ4UVE?e=download&nonce=i145r2di3pfdc&user=03645130838965277154Z&hash=hslsedidmjkit89pkq17jp03nm09kd97\n",
            "Connecting to doc-14-38-docs.googleusercontent.com (doc-14-38-docs.googleusercontent.com)|108.177.112.132|:443... connected.\n",
            "HTTP request sent, awaiting response... 200 OK\n",
            "Length: unspecified [application/zip]\n",
            "Saving to: ‘Blake_Ridge_Hydrates_3D.zip’\n",
            "\n",
            "Blake_Ridge_Hydrate     [         <=>        ] 913.81M   172MB/s    in 5.5s    \n",
            "\n",
            "2020-05-05 18:25:04 (167 MB/s) - ‘Blake_Ridge_Hydrates_3D.zip’ saved [958202004]\n",
            "\n"
          ],
          "name": "stdout"
        }
      ]
    },
    {
      "cell_type": "code",
      "metadata": {
        "id": "Rjkb2bzRDAxv",
        "colab_type": "code",
        "colab": {}
      },
      "source": [
        "zipref = zipfile.ZipFile(\"/content/Blake_Ridge_Hydrates_3D.zip\", 'r') \n",
        "zipref.extractall(\"/content/Blake_Ridge_Hydrates_3D\")"
      ],
      "execution_count": 0,
      "outputs": []
    },
    {
      "cell_type": "code",
      "metadata": {
        "id": "v251777aW18M",
        "colab_type": "code",
        "outputId": "77692616-45b1-471b-db98-f009cbe67399",
        "colab": {
          "base_uri": "https://localhost:8080/",
          "height": 158
        }
      },
      "source": [
        "!wget https://www.digitalrocksportal.org/media/projects/35/archive.zip -P /content"
      ],
      "execution_count": 0,
      "outputs": [
        {
          "output_type": "stream",
          "text": [
            "--2020-05-06 14:20:20--  https://www.digitalrocksportal.org/media/projects/35/archive.zip\n",
            "Resolving www.digitalrocksportal.org (www.digitalrocksportal.org)... 129.114.60.240\n",
            "Connecting to www.digitalrocksportal.org (www.digitalrocksportal.org)|129.114.60.240|:443... connected.\n",
            "HTTP request sent, awaiting response... 200 OK\n",
            "Length: 6347868004 (5.9G) [application/zip]\n",
            "Saving to: ‘/content/archive.zip’\n",
            "\n",
            "archive.zip           4%[                    ] 288.48M  17.3MB/s    eta 5m 53s ^C\n"
          ],
          "name": "stdout"
        }
      ]
    }
  ]
}